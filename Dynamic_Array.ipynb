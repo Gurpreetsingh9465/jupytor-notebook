{
 "cells": [
  {
   "cell_type": "code",
   "execution_count": 7,
   "metadata": {
    "collapsed": true
   },
   "outputs": [],
   "source": [
    "import ctypes\n",
    "\n",
    "\n",
    "class DynamicArray():\n",
    "    def __init__(self):\n",
    "        self.n = 0\n",
    "        self.capacity = 1\n",
    "        self.A = self.make_array(self.capacity)\n",
    "    # created an init method (constructor) which will initial 3 things n (index) capacity(size = 1) and array created\n",
    "    # by make_array() method\n",
    "        \n",
    "    def __len__(self):\n",
    "        return self.n \n",
    "    # returns the index\n",
    "    def __getitem__(self,k):\n",
    "        if not 0 <= k <self.n:\n",
    "            return IndexError('k is out of bounds!') # if k in out of range\n",
    "        return self.A[k]   \n",
    "    def append(self,num):\n",
    "        if self.n == self.capacity:\n",
    "            self._resize(2*self.capacity)\n",
    "        self.A[self.n] = num\n",
    "        self.n += 1\n",
    "    def _resize(self,new_cap):\n",
    "        B = self.make_array(new_cap)\n",
    "        for k in range(self.n):\n",
    "            B[k] = self.A[k]\n",
    "        self.A = B\n",
    "        self.capacity = new_cap\n",
    "    def printDA(self):\n",
    "        for i in range(self.n):\n",
    "            print(self.A[i])\n",
    "    def make_array(self,new_cap):\n",
    "        return (new_cap * ctypes.py_object)() \n",
    "    # this will create a new block of size new_cap uses c library\n",
    "    # internally consider it as creating block with malloc in c, new in c++\n",
    "        \n",
    "        "
   ]
  },
  {
   "cell_type": "code",
   "execution_count": 8,
   "metadata": {},
   "outputs": [
    {
     "name": "stdout",
     "output_type": "stream",
     "text": [
      "56\n",
      "56\n",
      "56\n",
      "56\n",
      "56\n",
      "56\n",
      "56\n",
      "1\n",
      "45\n",
      "78\n",
      "745\n",
      "78\n",
      "745\n",
      "78\n",
      "745\n",
      "78\n",
      "745\n"
     ]
    }
   ],
   "source": [
    "import sys\n",
    "arr = DynamicArray()\n",
    "arr.append(1)\n",
    "print(sys.getsizeof(arr))\n",
    "arr.append(45)\n",
    "print(sys.getsizeof(arr))\n",
    "arr.append(78)\n",
    "arr.append(745)\n",
    "print(sys.getsizeof(arr))\n",
    "len(arr)\n",
    "arr.append(78)\n",
    "arr.append(745)\n",
    "print(sys.getsizeof(arr))\n",
    "print(sys.getsizeof(arr))\n",
    "arr.append(78)\n",
    "arr.append(745)\n",
    "print(sys.getsizeof(arr))\n",
    "len(arr)\n",
    "arr.append(78)\n",
    "arr.append(745)\n",
    "print(sys.getsizeof(arr))\n",
    "arr.printDA()"
   ]
  },
  {
   "cell_type": "code",
   "execution_count": null,
   "metadata": {
    "collapsed": true
   },
   "outputs": [],
   "source": []
  },
  {
   "cell_type": "code",
   "execution_count": null,
   "metadata": {
    "collapsed": true
   },
   "outputs": [],
   "source": []
  },
  {
   "cell_type": "code",
   "execution_count": null,
   "metadata": {
    "collapsed": true
   },
   "outputs": [],
   "source": []
  }
 ],
 "metadata": {
  "kernelspec": {
   "display_name": "Python 3",
   "language": "python",
   "name": "python3"
  },
  "language_info": {
   "codemirror_mode": {
    "name": "ipython",
    "version": 3
   },
   "file_extension": ".py",
   "mimetype": "text/x-python",
   "name": "python",
   "nbconvert_exporter": "python",
   "pygments_lexer": "ipython3",
   "version": "3.6.3"
  }
 },
 "nbformat": 4,
 "nbformat_minor": 2
}
