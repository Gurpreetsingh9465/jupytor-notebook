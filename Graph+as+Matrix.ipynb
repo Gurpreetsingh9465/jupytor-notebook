{
 "cells": [
  {
   "cell_type": "code",
   "execution_count": 76,
   "metadata": {
    "collapsed": true
   },
   "outputs": [],
   "source": [
    "class graph:\n",
    "    def __init__(self,vertex):\n",
    "        self.s = [[ None for i in range(vertex)] for j in range(vertex)] # create a 2-D matrix\n",
    "        for i in range(len(self.s)):\n",
    "            for j in range(len(self.s)):\n",
    "                if i == j:\n",
    "                    self.s[i][j] = 0\n",
    "    def setEdge(self, f, to,cost = 0):\n",
    "        if f>=0 and f<len(self.s) and to>=0 and to < len(self.s) and f != to:\n",
    "            self.s[f][to] = cost\n",
    "        else:\n",
    "            raise IndexError('Index out of range')\n",
    "    def getList(self):\n",
    "        return self.s\n",
    "    def getCost(self,f,t):\n",
    "        return self.s[f][t]\n",
    "    def connectedTo(self,ele):\n",
    "        l = []\n",
    "        for i in range(len(self.s)):\n",
    "            if self.s[ele][i] == None:\n",
    "                continue\n",
    "            if self.s[ele][i] > 0:\n",
    "                l.append(i)\n",
    "        return l\n",
    "    def floydWarshall(self):\n",
    "        N = len(self.s)\n",
    "        for k in range(N):\n",
    "            for i in range(N):\n",
    "                for j in range(N):\n",
    "                    if self.s[i][k] + self.s[k][j] < self.s[i][j]:\n",
    "                        self.s[i][j] = self.s[i][k] + self.s[k][j]"
   ]
  },
  {
   "cell_type": "code",
   "execution_count": 77,
   "metadata": {},
   "outputs": [
    {
     "name": "stdout",
     "output_type": "stream",
     "text": [
      "[[0, 1, None, 4], [None, 0, None, None], [5, 2, 0, None], [None, None, 3, 0]]\n",
      "A\n",
      "B\n"
     ]
    }
   ],
   "source": [
    "import random\n",
    "dic = {0:'A', 1:'B', 2:'C', 3: 'D'}\n",
    "g = graph(4)\n",
    "g.setEdge(0,1,1)\n",
    "g.setEdge(0,3,4)\n",
    "g.setEdge(2,0,5)\n",
    "g.setEdge(2,1,2)\n",
    "g.setEdge(3,2,3)\n",
    "print(g.getList())\n",
    "l = g.connectedTo(2)  # 0 = 'C'\n",
    "for i in l:\n",
    "    print(dic[i])"
   ]
  }
 ],
 "metadata": {
  "kernelspec": {
   "display_name": "Python 3",
   "language": "python",
   "name": "python3"
  },
  "language_info": {
   "codemirror_mode": {
    "name": "ipython",
    "version": 3
   },
   "file_extension": ".py",
   "mimetype": "text/x-python",
   "name": "python",
   "nbconvert_exporter": "python",
   "pygments_lexer": "ipython3",
   "version": "3.6.3"
  }
 },
 "nbformat": 4,
 "nbformat_minor": 2
}
