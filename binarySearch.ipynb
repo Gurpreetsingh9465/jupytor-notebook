{
 "cells": [
  {
   "cell_type": "code",
   "execution_count": 35,
   "metadata": {},
   "outputs": [],
   "source": [
    "def BinarySearch(l,val):\n",
    "    mid = len(l)//2\n",
    "    if len(l) == 0:\n",
    "        return False\n",
    "    else:\n",
    "        mid = len(l)//2\n",
    "        if l[mid] == val:\n",
    "            return True\n",
    "        else:\n",
    "            if val<l[mid]:\n",
    "                return BinarySearch(l[:mid],val)\n",
    "            else:\n",
    "                return BinarySearch(l[mid+1:],val)"
   ]
  },
  {
   "cell_type": "code",
   "execution_count": 41,
   "metadata": {},
   "outputs": [
    {
     "data": {
      "text/plain": [
       "False"
      ]
     },
     "execution_count": 41,
     "metadata": {},
     "output_type": "execute_result"
    }
   ],
   "source": [
    "a = [4,5,7,8,9,10]\n",
    "BinarySearch(a,11)"
   ]
  },
  {
   "cell_type": "code",
   "execution_count": null,
   "metadata": {
    "collapsed": true
   },
   "outputs": [],
   "source": []
  }
 ],
 "metadata": {
  "kernelspec": {
   "display_name": "Python 3",
   "language": "python",
   "name": "python3"
  },
  "language_info": {
   "codemirror_mode": {
    "name": "ipython",
    "version": 3
   },
   "file_extension": ".py",
   "mimetype": "text/x-python",
   "name": "python",
   "nbconvert_exporter": "python",
   "pygments_lexer": "ipython3",
   "version": "3.6.3"
  }
 },
 "nbformat": 4,
 "nbformat_minor": 2
}
