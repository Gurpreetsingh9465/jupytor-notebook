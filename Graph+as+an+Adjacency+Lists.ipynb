{
 "cells": [
  {
   "cell_type": "code",
   "execution_count": 5,
   "metadata": {
    "collapsed": true
   },
   "outputs": [],
   "source": [
    "class vertex:\n",
    "    def __init__(self,key):\n",
    "        self.id = key\n",
    "        self.connectedTo = {}\n",
    "    def addNeighbor(self,nbr,weight = 0): # if weight is not passed it ill be 0\n",
    "        self.connectedTo[nbr] = weight\n",
    "    def __str__(self):\n",
    "        return str(self.id) + 'connected to : ' + str([x.id for x in self.connectedTo]) # check all the connections\n",
    "    def getConnections(self):\n",
    "        return self.connectedTo.keys() # return the key of dictionary which are vertex\n",
    "    def getId(self):\n",
    "        return self.id\n",
    "    def getWeight(self,nbr):\n",
    "        return self.connectedTo[nbr]\n",
    "    "
   ]
  },
  {
   "cell_type": "code",
   "execution_count": 6,
   "metadata": {},
   "outputs": [],
   "source": [
    "class Graph:\n",
    "    def __init__(self):\n",
    "        self.vertList = {}\n",
    "        self.numVertices = 0\n",
    "    def addVertex(self,key):\n",
    "        self.numVertices += 1\n",
    "        newVertex = vertex(key) # create a vertex object \n",
    "        self.vertList[key] = newVertex\n",
    "        return newVertex\n",
    "    def getVertex(self,n): # passing key \n",
    "        if n in self.vertList: # if key in self.vertList\n",
    "            return self.vertList[n] # return the vertices\n",
    "        else:\n",
    "            return None # if not return None\n",
    "    def __contains__(self,n):\n",
    "        return n in self.vertList # check if it contains that\n",
    "    def addEdge(self,f,t,cost = 0): # f = from t = to cost = weight\n",
    "        if f not in self.vertList:\n",
    "            nv = self.addVertex(f) # create new if not exist\n",
    "        if t not in self.vertList:\n",
    "            nv = self.addVertex(t) # create new if not exist\n",
    "        self.vertList[f].addNeighbor(self.vertList[t],cost) # add weight\n",
    "    def getVertices(self):\n",
    "        return self.vertList.keys()\n",
    "    def __iter__(self):\n",
    "        return iter(self.vertList.values()) # return all value and make it into iteratable\n",
    "    \n",
    "        "
   ]
  },
  {
   "cell_type": "code",
   "execution_count": 7,
   "metadata": {},
   "outputs": [
    {
     "data": {
      "text/plain": [
       "{0: <__main__.vertex at 0x230c5a02cf8>,\n",
       " 1: <__main__.vertex at 0x230c5a02198>,\n",
       " 2: <__main__.vertex at 0x230c5a02ac8>,\n",
       " 3: <__main__.vertex at 0x230c5aee6d8>,\n",
       " 4: <__main__.vertex at 0x230c5a162e8>,\n",
       " 5: <__main__.vertex at 0x230c5a16128>}"
      ]
     },
     "execution_count": 7,
     "metadata": {},
     "output_type": "execute_result"
    }
   ],
   "source": [
    "g = Graph()\n",
    "for i in range(6):\n",
    "    g.addVertex(i)\n",
    "g.vertList"
   ]
  },
  {
   "cell_type": "code",
   "execution_count": 10,
   "metadata": {
    "collapsed": true
   },
   "outputs": [],
   "source": [
    "g.addEdge(0,1,2)"
   ]
  },
  {
   "cell_type": "code",
   "execution_count": 11,
   "metadata": {},
   "outputs": [
    {
     "name": "stdout",
     "output_type": "stream",
     "text": [
      "0connected to[1]\n",
      "dict_keys([<__main__.vertex object at 0x00000230C5A02198>])\n",
      "1connected to[]\n",
      "dict_keys([])\n",
      "2connected to[]\n",
      "dict_keys([])\n",
      "3connected to[]\n",
      "dict_keys([])\n",
      "4connected to[]\n",
      "dict_keys([])\n",
      "5connected to[]\n",
      "dict_keys([])\n"
     ]
    }
   ],
   "source": [
    "for vertex in g:\n",
    "    print(vertex)\n",
    "    print(vertex.getConnections())"
   ]
  },
  {
   "cell_type": "code",
   "execution_count": null,
   "metadata": {
    "collapsed": true
   },
   "outputs": [],
   "source": []
  }
 ],
 "metadata": {
  "kernelspec": {
   "display_name": "Python 3",
   "language": "python",
   "name": "python3"
  },
  "language_info": {
   "codemirror_mode": {
    "name": "ipython",
    "version": 3
   },
   "file_extension": ".py",
   "mimetype": "text/x-python",
   "name": "python",
   "nbconvert_exporter": "python",
   "pygments_lexer": "ipython3",
   "version": "3.6.3"
  }
 },
 "nbformat": 4,
 "nbformat_minor": 2
}
