{
 "cells": [
  {
   "cell_type": "code",
   "execution_count": 28,
   "metadata": {
    "collapsed": true
   },
   "outputs": [],
   "source": [
    "class BinaryTree():\n",
    "    def __init__ (self,root):\n",
    "        self.key = root\n",
    "        self.rightChild = None\n",
    "        self.leftChild = None\n",
    "    def insertLeft(self,newNode):\n",
    "        if self.leftChild == None:\n",
    "            self.leftChild = BinaryTree(newNode)\n",
    "        else:\n",
    "            t = BinaryTree(newNode)\n",
    "            t.leftChild = self.leftChild\n",
    "            self.leftChild = t\n",
    "    def insertRight(self,newNode):\n",
    "        if self.rightChild == None:\n",
    "            self.rightChild = BinaryTree(newNode)\n",
    "        else:\n",
    "            t = BinaryTree(newNode)\n",
    "            t.rightChild = self.rightChild\n",
    "            self.rightChild = t\n",
    "    def getRightChild(self):\n",
    "        return self.rightChild\n",
    "    def getLeftChild(self):\n",
    "        return self.leftChild\n",
    "    def getRootValue(self):\n",
    "        return self.key\n",
    "    def setRootValue(self,data):\n",
    "        self.key = data\n",
    "    def preOrder(self):\n",
    "        print(self.getRootValue(),end= \" \")\n",
    "        if self.leftChild:\n",
    "            self.leftChild.preOrder()\n",
    "        if self.rightChild:\n",
    "            self.rightChild.preOrder()\n",
    "    def postOrder(self):\n",
    "        if self.leftChild:\n",
    "            self.leftChild.postOrder()\n",
    "        if self.rightChild:\n",
    "            self.rightChild.postOrder() \n",
    "        print(self.getRootValue(),end= \" \")\n",
    "    def inOrder(self):\n",
    "        \n",
    "        if self.leftChild:\n",
    "            self.leftChild.inOrder()\n",
    "        print(self.getRootValue(),end= \" \")\n",
    "        if self.rightChild:\n",
    "            self.rightChild.inOrder()\n",
    "    "
   ]
  },
  {
   "cell_type": "code",
   "execution_count": 31,
   "metadata": {},
   "outputs": [
    {
     "name": "stdout",
     "output_type": "stream",
     "text": [
      "45 90 40 50 \n",
      "40 90 50 45 \n",
      "40 90 45 50 "
     ]
    }
   ],
   "source": [
    "tree = BinaryTree(45)\n",
    "tree.insertLeft(40)\n",
    "tree.insertRight(50)\n",
    "tree.insertLeft(90)\n",
    "tree.preOrder()\n",
    "print()\n",
    "tree.postOrder()\n",
    "print()\n",
    "tree.inOrder()"
   ]
  }
 ],
 "metadata": {
  "kernelspec": {
   "display_name": "Python 3",
   "language": "python",
   "name": "python3"
  },
  "language_info": {
   "codemirror_mode": {
    "name": "ipython",
    "version": 3
   },
   "file_extension": ".py",
   "mimetype": "text/x-python",
   "name": "python",
   "nbconvert_exporter": "python",
   "pygments_lexer": "ipython3",
   "version": "3.6.3"
  }
 },
 "nbformat": 4,
 "nbformat_minor": 2
}
