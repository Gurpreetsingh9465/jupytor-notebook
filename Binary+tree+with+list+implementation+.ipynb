{
 "cells": [
  {
   "cell_type": "code",
   "execution_count": 1,
   "metadata": {
    "collapsed": true
   },
   "outputs": [],
   "source": [
    "def Btree(r):\n",
    "    return [r,[],[]]\n",
    "def insertLeft(root,new_branch):\n",
    "    t = root.pop(1)\n",
    "    if len(t) >= 1:\n",
    "        root.insert(1,[new_branch,t,[]])\n",
    "    else:\n",
    "        root.insert(1,[new_branch,[],[]])\n",
    "    return root\n",
    "def insertRight(root,new_branch):\n",
    "    t = root.pop(2)\n",
    "    if len(t) >= 1:\n",
    "        root.insert(2,[new_branch,[],t])\n",
    "    else:\n",
    "        root.insert(2,[new_branch,[],[]])\n",
    "    return root                   \n",
    "def getRoot(root):\n",
    "    return root[0]\n",
    "def setRoot(root,data):\n",
    "    root[0] = data\n",
    "def getRight(root):\n",
    "    return root[1]\n",
    "def getLeft(root):\n",
    "    return root[2]               "
   ]
  },
  {
   "cell_type": "code",
   "execution_count": 7,
   "metadata": {},
   "outputs": [
    {
     "data": {
      "text/plain": [
       "[4, [[10, [74], [78]], [], []], [[9, [7], [8]], [], []]]"
      ]
     },
     "execution_count": 7,
     "metadata": {},
     "output_type": "execute_result"
    }
   ],
   "source": [
    "tree = Btree(4)\n",
    "tree = insertLeft(tree,[10,[74],[78]])\n",
    "tree = insertRight(tree,[9,[7],[8]])\n",
    "tree"
   ]
  }
 ],
 "metadata": {
  "kernelspec": {
   "display_name": "Python 3",
   "language": "python",
   "name": "python3"
  },
  "language_info": {
   "codemirror_mode": {
    "name": "ipython",
    "version": 3
   },
   "file_extension": ".py",
   "mimetype": "text/x-python",
   "name": "python",
   "nbconvert_exporter": "python",
   "pygments_lexer": "ipython3",
   "version": "3.6.3"
  }
 },
 "nbformat": 4,
 "nbformat_minor": 2
}
