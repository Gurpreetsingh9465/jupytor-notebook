{
 "cells": [
  {
   "cell_type": "code",
   "execution_count": 1,
   "metadata": {
    "collapsed": true
   },
   "outputs": [],
   "source": [
    "class BinaryHeap():\n",
    "    def __init__(self):\n",
    "        self.heapList = [0]\n",
    "        self.currentSize = 0\n",
    "    def percUp(self, i):\n",
    "        while i//2 > 0: # parent value is greater than child we will swap\n",
    "            if self.heapList[i] < self.heapList[i // 2]:\n",
    "                temp = self.heapList[i]\n",
    "                self.heapList[i] = self.heapList[i // 2]\n",
    "                self.heapList[i//2] = temp\n",
    "            i = i//2\n",
    "    def insert(self, k):\n",
    "        self.heapList.append(k)\n",
    "        self.currentSize += 1\n",
    "        self.percUp(self.currentSize)\n",
    "    def percDown(self, i):\n",
    "        while (i * 2) <= self.currentSize:\n",
    "            mc = self.minChild(i)\n",
    "            if self.heapList[i] > self.heapList[mc]:\n",
    "                temp = self.heapList[i]\n",
    "                self.heapList[i] = self.heapList[mc]\n",
    "                self.heapList[mc] = temp\n",
    "            i = mc\n",
    "    def minChild(self,i):\n",
    "        if 2*i + 1 > self.currentSize:\n",
    "            return 2*i\n",
    "        else:\n",
    "            if self.heapList[2*i + 1] < self.heapList[2*i]:\n",
    "                return 2*i + 1\n",
    "            else:\n",
    "                return 2*i\n",
    "    def delMin(self): # return first value in the list\n",
    "        val = self.heapList[1]\n",
    "        self.heapList[1] = self.heapList[self.currentSize]\n",
    "        self.currentSize -= 1\n",
    "        self.heapList.pop()\n",
    "        self.percDown(1)\n",
    "        return val\n",
    "    def buildHeap(self, l):\n",
    "        i = len(l) // 2\n",
    "        self.currentSize = len(l)\n",
    "        self.heapList = [0] + l[:]\n",
    "        while i > 0:\n",
    "            self.percDown(i)\n",
    "            i -= 1\n",
    "        "
   ]
  },
  {
   "cell_type": "code",
   "execution_count": 4,
   "metadata": {},
   "outputs": [
    {
     "name": "stdout",
     "output_type": "stream",
     "text": [
      "[0, 2, 4, 5, 7, 8, 10, 15]\n"
     ]
    }
   ],
   "source": [
    "a = [2,4,5,7,8,10,15]\n",
    "BH = BinaryHeap()\n",
    "BH.buildHeap(a)\n",
    "print(BH.heapList)"
   ]
  }
 ],
 "metadata": {
  "kernelspec": {
   "display_name": "Python 3",
   "language": "python",
   "name": "python3"
  },
  "language_info": {
   "codemirror_mode": {
    "name": "ipython",
    "version": 3
   },
   "file_extension": ".py",
   "mimetype": "text/x-python",
   "name": "python",
   "nbconvert_exporter": "python",
   "pygments_lexer": "ipython3",
   "version": "3.6.3"
  }
 },
 "nbformat": 4,
 "nbformat_minor": 2
}
